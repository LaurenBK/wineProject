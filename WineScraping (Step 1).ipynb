{
 "cells": [
  {
   "cell_type": "code",
   "execution_count": 462,
   "metadata": {
    "collapsed": true
   },
   "outputs": [],
   "source": [
    "import urllib2 as u2\n",
    "import json\n",
    "import pandas as pd\n",
    "import time\n",
    "import numpy as np\n",
    "import html5lib\n",
    "import re\n",
    "import os\n",
    "import requests\n",
    "from bs4 import BeautifulSoup"
   ]
  },
  {
   "cell_type": "markdown",
   "metadata": {},
   "source": [
    "## Learning the tools"
   ]
  },
  {
   "cell_type": "code",
   "execution_count": 388,
   "metadata": {
    "collapsed": true
   },
   "outputs": [],
   "source": [
    "url = 'http://www.wine.co.za/wine/wine.aspx?WINEID='+str(39031)\n",
    "\n",
    "#Query the website and return the html to the variable 'page'\n",
    "page = u2.urlopen(url).read()\n",
    "\n",
    "#Parse the html in the 'page' variable, and store it in \n",
    "#Beautiful Soup format\n",
    "soup = BeautifulSoup(page,'html.parser')"
   ]
  },
  {
   "cell_type": "code",
   "execution_count": 389,
   "metadata": {},
   "outputs": [
    {
     "name": "stdout",
     "output_type": "stream",
     "text": [
      "{u'category': u'Sauvignon Blanc', u'sku': u'39031', u'description': u'Passion fruit, ruby grapefruit, gun flint and freshly cut grass on the nose followed by fresh citrus notes. The palate shows beautiful richness, strong mineral core with an herbaceous undertone and a bright acidity running through the wine.', u'image': [u'http://images.wine.co.za/GetWineImage.ashx?ImageSize=social&IMAGEID=258093'], u'brand': {u'@type': u'Brand', u'name': u'Steenberg'}, u'@context': u'http://schema.org', u'@id': u'https://wine.co.za/wine/wine.aspx?WINEID=39031', u'@type': u'Product', u'name': u'Steenberg Sauvignon Blanc 2016'}\n"
     ]
    },
    {
     "data": {
      "text/plain": [
       "{u'@type': u'Brand', u'name': u'Steenberg'}"
      ]
     },
     "execution_count": 389,
     "metadata": {},
     "output_type": "execute_result"
    }
   ],
   "source": [
    "data_json = soup.find('script', type='application/ld+json')\n",
    "data = json.loads(data_json.text)\n",
    "print(data)\n",
    "data.pop('brand')"
   ]
  },
  {
   "cell_type": "code",
   "execution_count": 390,
   "metadata": {},
   "outputs": [
    {
     "name": "stdout",
     "output_type": "stream",
     "text": [
      "\n",
      "Constantia\n",
      "Sauvignon Blanc\n",
      "JD Pretorius\n"
     ]
    }
   ],
   "source": [
    "print(soup.find('span',id=\"lbl_foodsuggest\").text)\n",
    "print(soup.find('span',id=\"lbl_origin\").text)\n",
    "print(soup.find('span',id=\"lbl_mainvariety\").text)\n",
    "print(soup.find('span',id=\"lbl_winemaker\").text)"
   ]
  },
  {
   "cell_type": "code",
   "execution_count": 391,
   "metadata": {},
   "outputs": [
    {
     "name": "stdout",
     "output_type": "stream",
     "text": [
      "[u'alc', u'13']\n",
      "[u'rs', u'1']\n",
      "[u'pH', u'3']\n",
      "[u'ta', u'6']\n"
     ]
    }
   ],
   "source": [
    "analysis = soup.find('span', id=\"lbl_analysis\")\n",
    "analysis.find_all('span')\n",
    "for s in ['alc : (\\d+)', 'rs : (\\d+)',\n",
    "          'pH : (\\d+)', 'ta : (\\d+)']:\n",
    "    try:\n",
    "        result = re.search(s, \n",
    "                           analysis.text).group(0) \n",
    "        r = result.split(' : ') \n",
    "        print(r)\n",
    "        data[r[0]] = r[1] \n",
    "    except AttributeError:\n",
    "        pass"
   ]
  },
  {
   "cell_type": "code",
   "execution_count": 392,
   "metadata": {},
   "outputs": [
    {
     "name": "stdout",
     "output_type": "stream",
     "text": [
      "[u'type', u'White']\n",
      "[u'style', u'Dry']\n",
      "[u'taste', u'Fruity']\n"
     ]
    }
   ],
   "source": [
    "spans = soup.find('span', id='lbl_type')\n",
    "spans = spans.text.replace(u'\\u2003', u'')\n",
    "for s in ['type : (\\w+)', 'style : (\\w+)',\n",
    "          'body : (\\w+)', 'taste : (\\w+)',\n",
    "          ' (\\w+)$']:\n",
    "    try:\n",
    "        result = re.search(s, spans).group(0)\n",
    "        try:\n",
    "            r = result.split(' : ') \n",
    "            print(r)\n",
    "            data[r[0]] = r[1]\n",
    "        except IndexError:\n",
    "            data[u'wood'] = result\n",
    "    except AttributeError:\n",
    "        pass"
   ]
  },
  {
   "cell_type": "code",
   "execution_count": 393,
   "metadata": {},
   "outputs": [
    {
     "name": "stdout",
     "output_type": "stream",
     "text": [
      "[u'pack', u'Bottle']\n",
      "[u'size', u'750ml']\n",
      "[u'closure', u'Screwcap']\n"
     ]
    }
   ],
   "source": [
    "\n",
    "packing = soup.find('span', id='lbl_pack').text\n",
    "for s in ['pack : (\\w+)', 'size : (\\w+)',\n",
    "          'closure : (\\w+)']:\n",
    "    try:\n",
    "        result = re.search(s, packing).group(0)\n",
    "        r = result.split(' : ') \n",
    "        print(r)\n",
    "        data[r[0]] = r[1]\n",
    "    except AttributeError:\n",
    "        pass\n"
   ]
  },
  {
   "cell_type": "code",
   "execution_count": 394,
   "metadata": {},
   "outputs": [
    {
     "name": "stdout",
     "output_type": "stream",
     "text": [
      "{u'category': u'Sauvignon Blanc', u'sku': u'39031', u'style': u'Dry', u'description': u'Passion fruit, ruby grapefruit, gun flint and freshly cut grass on the nose followed by fresh citrus notes. The palate shows beautiful richness, strong mineral core with an herbaceous undertone and a bright acidity running through the wine.', u'closure': u'Screwcap', u'rs': u'1', u'taste': u'Fruity', u'type': u'White', u'image': [u'http://images.wine.co.za/GetWineImage.ashx?ImageSize=social&IMAGEID=258093'], u'size': u'750ml', u'alc': u'13', u'pack': u'Bottle', u'@context': u'http://schema.org', u'pH': u'3', u'ta': u'6', u'@id': u'https://wine.co.za/wine/wine.aspx?WINEID=39031', u'@type': u'Product', u'name': u'Steenberg Sauvignon Blanc 2016'}\n"
     ]
    },
    {
     "data": {
      "text/html": [
       "<div>\n",
       "<style>\n",
       "    .dataframe thead tr:only-child th {\n",
       "        text-align: right;\n",
       "    }\n",
       "\n",
       "    .dataframe thead th {\n",
       "        text-align: left;\n",
       "    }\n",
       "\n",
       "    .dataframe tbody tr th {\n",
       "        vertical-align: top;\n",
       "    }\n",
       "</style>\n",
       "<table border=\"1\" class=\"dataframe\">\n",
       "  <thead>\n",
       "    <tr style=\"text-align: right;\">\n",
       "      <th></th>\n",
       "      <th>@context</th>\n",
       "      <th>@id</th>\n",
       "      <th>@type</th>\n",
       "      <th>alc</th>\n",
       "      <th>category</th>\n",
       "      <th>closure</th>\n",
       "      <th>description</th>\n",
       "      <th>image</th>\n",
       "      <th>name</th>\n",
       "      <th>pH</th>\n",
       "      <th>pack</th>\n",
       "      <th>rs</th>\n",
       "      <th>size</th>\n",
       "      <th>sku</th>\n",
       "      <th>style</th>\n",
       "      <th>ta</th>\n",
       "      <th>taste</th>\n",
       "      <th>type</th>\n",
       "    </tr>\n",
       "  </thead>\n",
       "  <tbody>\n",
       "    <tr>\n",
       "      <th>0</th>\n",
       "      <td>http://schema.org</td>\n",
       "      <td>https://wine.co.za/wine/wine.aspx?WINEID=39031</td>\n",
       "      <td>Product</td>\n",
       "      <td>13</td>\n",
       "      <td>Sauvignon Blanc</td>\n",
       "      <td>Screwcap</td>\n",
       "      <td>Passion fruit, ruby grapefruit, gun flint and ...</td>\n",
       "      <td>http://images.wine.co.za/GetWineImage.ashx?Ima...</td>\n",
       "      <td>Steenberg Sauvignon Blanc 2016</td>\n",
       "      <td>3</td>\n",
       "      <td>Bottle</td>\n",
       "      <td>1</td>\n",
       "      <td>750ml</td>\n",
       "      <td>39031</td>\n",
       "      <td>Dry</td>\n",
       "      <td>6</td>\n",
       "      <td>Fruity</td>\n",
       "      <td>White</td>\n",
       "    </tr>\n",
       "  </tbody>\n",
       "</table>\n",
       "</div>"
      ],
      "text/plain": [
       "            @context                                             @id    @type  \\\n",
       "0  http://schema.org  https://wine.co.za/wine/wine.aspx?WINEID=39031  Product   \n",
       "\n",
       "  alc         category   closure  \\\n",
       "0  13  Sauvignon Blanc  Screwcap   \n",
       "\n",
       "                                         description  \\\n",
       "0  Passion fruit, ruby grapefruit, gun flint and ...   \n",
       "\n",
       "                                               image  \\\n",
       "0  http://images.wine.co.za/GetWineImage.ashx?Ima...   \n",
       "\n",
       "                             name pH    pack rs   size    sku style ta  \\\n",
       "0  Steenberg Sauvignon Blanc 2016  3  Bottle  1  750ml  39031   Dry  6   \n",
       "\n",
       "    taste   type  \n",
       "0  Fruity  White  "
      ]
     },
     "execution_count": 394,
     "metadata": {},
     "output_type": "execute_result"
    }
   ],
   "source": [
    "print(repr(data))\n",
    "df = pd.DataFrame(data)\n",
    "df"
   ]
  },
  {
   "cell_type": "markdown",
   "metadata": {},
   "source": [
    "## Set up functions\n",
    "\n",
    "After investigating the source of a few different pages, it made sense to try to read a variety of flags, allowing for many to be missing"
   ]
  },
  {
   "cell_type": "code",
   "execution_count": 507,
   "metadata": {
    "collapsed": true
   },
   "outputs": [],
   "source": [
    "def collect_specific_tags(soup, data):\n",
    "    \"\"\"\n",
    "    Collect embedded data from the website\n",
    "        - foodnotes\n",
    "        - alcohol, pH, rs, ta\n",
    "        - type\n",
    "        - style\n",
    "        - wooded\n",
    "        - packing\n",
    "        - size\n",
    "        - closure\n",
    "    :param soup: BeautifulSoup object\n",
    "    :param data: dict\n",
    "        dictionary of data from webpage\n",
    "    \"\"\"\n",
    "    labels_to_process = {\n",
    "        'foodnote': 'lbl_foodsuggest',\n",
    "        'winemaker': 'lbl_winemaker',\n",
    "        'origin': 'lbl_origin',\n",
    "        'variety': 'lbl_mainvariety',\n",
    "    }\n",
    "    \n",
    "    for labelname in labels_to_process.keys():\n",
    "        label = labels_to_process[labelname]\n",
    "        try:\n",
    "            data[labelname] = soup.find('span',\n",
    "                                  id=label).text\n",
    "        except:\n",
    "            try:\n",
    "                data[labelname] = soup.find('span',\n",
    "                                  id=label)\n",
    "            except AttributeError:\n",
    "                # item not in wine summary\n",
    "                data[labelname] = None \n",
    "                \n",
    "    try:\n",
    "        data['winery'] = soup.find('a',\n",
    "                          id='hl_winery')\n",
    "    except AttributeError:\n",
    "        # item not in wine summary\n",
    "        data['winery'] = None \n",
    "        \n",
    "    ids_to_process = {\n",
    "        \"lbl_analysis\" : ['alc : (\\d+)', 'rs : (\\d+)',\n",
    "                          'pH : (\\d+)', 'ta : (\\d+)'],\n",
    "        'lbl_type' : ['type : (\\w+) ', 'style : (\\w+) ',\n",
    "                      ' (\\w+)$'],\n",
    "        'lbl_pack' : ['pack : (\\w+)', 'size : (\\w+)',\n",
    "                      'closure : (\\w+)']\n",
    "    }\n",
    "    for id_key in ids_to_process.keys():\n",
    "        subtext_labels = ids_to_process[id_key]\n",
    "        subtext=None\n",
    "        try:\n",
    "            subtext = soup.find('span', id = id_key)\n",
    "            try:\n",
    "                subtext = subtext.text.replace(u'\\u2003', u'')\n",
    "            except AttributeError as a:\n",
    "                pass \n",
    "        except Exception as e:\n",
    "            print e\n",
    "        if subtext is not None:\n",
    "            for s in subtext_labels:\n",
    "                try:\n",
    "                    result = re.search(s, \n",
    "                                       subtext).group(0) \n",
    "                    try:\n",
    "                        r = result.split(' : ') \n",
    "                        data[r[0]] = r[1]\n",
    "                    except IndexError: \n",
    "                        # wooded type is on it's own\n",
    "                        if id_key == 'lbl_type':\n",
    "                            data[u'wood'] = result\n",
    "                        else: \n",
    "                            print 'Error with', id_key, s\n",
    "                except AttributeError:\n",
    "                    pass # tag does not exist in html\n",
    "\n",
    "\n",
    "    return data\n",
    "\n"
   ]
  },
  {
   "cell_type": "code",
   "execution_count": 519,
   "metadata": {
    "collapsed": true
   },
   "outputs": [],
   "source": [
    "def save_html(n):\n",
    "    url = 'http://www.wine.co.za/wine/wine.aspx?WINEID=' \\\n",
    "        + str(n)\n",
    "    page = u2.urlopen(url).read()\n",
    "    soup = BeautifulSoup(page,'html.parser')\n",
    "    with open('~/Google Drive/Data Science/wine_htmls/winehtml_' \n",
    "              + str(n) + '.txt', 'w') as f:\n",
    "        f.write(str(soup))\n",
    "    \n",
    "def save_all_htmls(start, stop):\n",
    "    for n in range(start, stop):\n",
    "        save_html(n)\n",
    "        sleeptime = np.random.random() + 1 \n",
    "        time.sleep(sleeptime)\n",
    "\n",
    "def collect_data(n):\n",
    "    \"\"\"\n",
    "    Collect jsons from various webpages and store\n",
    "    :param url_range: integer range\n",
    "        range of integers to try in url\n",
    "    \"\"\"\n",
    "    data = None \n",
    "    name = None\n",
    "    with open('~/Google Drive/Data Science/wine_htmls/winehtml_' \n",
    "      + str(n) + '.txt', 'r') as f:\n",
    "        html_data = f.read()\n",
    "    soup = BeautifulSoup(html_data, 'html.parser')\n",
    "    if soup.find('title').text != '\\r\\n\\twine.co.za\\r\\n':\n",
    "        data_json = soup.find('script',\n",
    "                              type='application/ld+json')\n",
    "        try:\n",
    "            data = json.loads(data_json.text)\n",
    "        except ValueError:\n",
    "            pass\n",
    "\n",
    "    if data is not None:\n",
    "        subdicts = ['brand', 'offers']\n",
    "        for key in subdicts:\n",
    "            try:\n",
    "                s = data.pop(key)\n",
    "                if key == 'brand':\n",
    "                    data[key+'_name'] = s[key][name] \n",
    "                if key == 'offers':\n",
    "                    \n",
    "            except:\n",
    "                pass\n",
    "\n",
    "        data = collect_specific_tags(soup, data)\n",
    "        name = data['name']\n",
    "\n",
    "    return data, name\n",
    "    \n",
    "    \n",
    "def collection_of_data(start, stop): \n",
    "    \"\"\"\n",
    "    Collect jsons from the stored webpages and store as df\n",
    "    :param url_range: integer range\n",
    "        range of integers pointing to stored webpages\n",
    "    \"\"\"\n",
    "    scraped_data = []\n",
    "\n",
    "    for n in range(start, stop):\n",
    "        data, name = collect_data(n)\n",
    "        if data == '':\n",
    "            pass\n",
    "        else:\n",
    "            try:\n",
    "                scraped_data.append(pd.DataFrame(data))\n",
    "            except ValueError:\n",
    "                print data\n",
    "                \n",
    "    print(len(scraped_data))\n",
    "    if len(scraped_data)>0:\n",
    "        data = pd.concat(scraped_data)\n",
    "        data.to_csv('~/Google Drive/Data Science/WineData/wineData_' + \\\n",
    "                    str(start)+'_'+str(stop) + '.csv',\n",
    "                    columns = data.columns, encoding='utf-8')"
   ]
  },
  {
   "cell_type": "markdown",
   "metadata": {},
   "source": [
    "## Collect data from www.wine.co.za\n",
    "\n",
    "Under the assumption that the website was not set up to manage high volumes, I made sure to scrape the sight at intervals a few seconds apart because I didn't want to affect the other users"
   ]
  },
  {
   "cell_type": "code",
   "execution_count": 523,
   "metadata": {
    "collapsed": true
   },
   "outputs": [],
   "source": [
    "save_all_htmls(1,44000)"
   ]
  },
  {
   "cell_type": "code",
   "execution_count": 524,
   "metadata": {
    "scrolled": true
   },
   "outputs": [
    {
     "name": "stdout",
     "output_type": "stream",
     "text": [
      "43999\n"
     ]
    }
   ],
   "source": [
    "collection_of_data(1, len(os.listdir(\n",
    "    '~/Google Drive/Data Science/wine_htmls/')))"
   ]
  },
  {
   "cell_type": "code",
   "execution_count": 526,
   "metadata": {},
   "outputs": [
    {
     "data": {
      "text/html": [
       "<div>\n",
       "<style>\n",
       "    .dataframe thead tr:only-child th {\n",
       "        text-align: right;\n",
       "    }\n",
       "\n",
       "    .dataframe thead th {\n",
       "        text-align: left;\n",
       "    }\n",
       "\n",
       "    .dataframe tbody tr th {\n",
       "        vertical-align: top;\n",
       "    }\n",
       "</style>\n",
       "<table border=\"1\" class=\"dataframe\">\n",
       "  <thead>\n",
       "    <tr style=\"text-align: right;\">\n",
       "      <th></th>\n",
       "      <th>@context</th>\n",
       "      <th>@id</th>\n",
       "      <th>@type</th>\n",
       "      <th>alc</th>\n",
       "      <th>category</th>\n",
       "      <th>closure</th>\n",
       "      <th>description</th>\n",
       "      <th>foodnote</th>\n",
       "      <th>image</th>\n",
       "      <th>name</th>\n",
       "      <th>...</th>\n",
       "      <th>pack</th>\n",
       "      <th>rs</th>\n",
       "      <th>size</th>\n",
       "      <th>sku</th>\n",
       "      <th>style</th>\n",
       "      <th>ta</th>\n",
       "      <th>type</th>\n",
       "      <th>variety</th>\n",
       "      <th>winemaker</th>\n",
       "      <th>wood</th>\n",
       "    </tr>\n",
       "  </thead>\n",
       "  <tbody>\n",
       "    <tr>\n",
       "      <th>0</th>\n",
       "      <td>http://schema.org</td>\n",
       "      <td>https://wine.co.za/wine/wine.aspx?WINEID=2</td>\n",
       "      <td>Product</td>\n",
       "      <td>17.0</td>\n",
       "      <td>Muscat dAlexandrie</td>\n",
       "      <td>NaN</td>\n",
       "      <td>NaN</td>\n",
       "      <td>NaN</td>\n",
       "      <td>http://images.wine.co.za/GetWineImage.ashx?Ima...</td>\n",
       "      <td>L Emigre Muscat d Alexandrie 1998</td>\n",
       "      <td>...</td>\n",
       "      <td>NaN</td>\n",
       "      <td>NaN</td>\n",
       "      <td>NaN</td>\n",
       "      <td>2</td>\n",
       "      <td>NaN</td>\n",
       "      <td>NaN</td>\n",
       "      <td>NaN</td>\n",
       "      <td>Muscat dAlexandrie</td>\n",
       "      <td>NaN</td>\n",
       "      <td>NaN</td>\n",
       "    </tr>\n",
       "    <tr>\n",
       "      <th>0</th>\n",
       "      <td>http://schema.org</td>\n",
       "      <td>https://wine.co.za/wine/wine.aspx?WINEID=4</td>\n",
       "      <td>Product</td>\n",
       "      <td>12.0</td>\n",
       "      <td>Cabernet Sauvignon</td>\n",
       "      <td>NaN</td>\n",
       "      <td>NaN</td>\n",
       "      <td>NaN</td>\n",
       "      <td>http://images.wine.co.za/GetWineImage.ashx?Ima...</td>\n",
       "      <td>Genesis Cabernet Sauvignon 1997/1998</td>\n",
       "      <td>...</td>\n",
       "      <td>NaN</td>\n",
       "      <td>1.0</td>\n",
       "      <td>NaN</td>\n",
       "      <td>4</td>\n",
       "      <td>NaN</td>\n",
       "      <td>5.0</td>\n",
       "      <td>Red</td>\n",
       "      <td>Cabernet Sauvignon</td>\n",
       "      <td>Chris Kelly</td>\n",
       "      <td>NaN</td>\n",
       "    </tr>\n",
       "    <tr>\n",
       "      <th>0</th>\n",
       "      <td>http://schema.org</td>\n",
       "      <td>https://wine.co.za/wine/wine.aspx?WINEID=5</td>\n",
       "      <td>Product</td>\n",
       "      <td>12.0</td>\n",
       "      <td>Cabernet Sauvignon</td>\n",
       "      <td>NaN</td>\n",
       "      <td>Immense in all proportions, this wine defines ...</td>\n",
       "      <td>NaN</td>\n",
       "      <td>http://images.wine.co.za/GetWineImage.ashx?Ima...</td>\n",
       "      <td>Rustenberg Peter Barlow 1996</td>\n",
       "      <td>...</td>\n",
       "      <td>Bottle</td>\n",
       "      <td>1.0</td>\n",
       "      <td>NaN</td>\n",
       "      <td>5</td>\n",
       "      <td>Dry</td>\n",
       "      <td>6.0</td>\n",
       "      <td>Red</td>\n",
       "      <td>Cabernet Sauvignon</td>\n",
       "      <td>Rod Easthope</td>\n",
       "      <td>wooded</td>\n",
       "    </tr>\n",
       "    <tr>\n",
       "      <th>0</th>\n",
       "      <td>http://schema.org</td>\n",
       "      <td>https://wine.co.za/wine/wine.aspx?WINEID=6</td>\n",
       "      <td>Product</td>\n",
       "      <td>13.0</td>\n",
       "      <td>Shiraz</td>\n",
       "      <td>NaN</td>\n",
       "      <td>This is an elegant and flavoursome Shiraz with...</td>\n",
       "      <td>NaN</td>\n",
       "      <td>http://images.wine.co.za/GetWineImage.ashx?Ima...</td>\n",
       "      <td>Henri Roselt Shiraz 1999</td>\n",
       "      <td>...</td>\n",
       "      <td>NaN</td>\n",
       "      <td>2.0</td>\n",
       "      <td>NaN</td>\n",
       "      <td>6</td>\n",
       "      <td>NaN</td>\n",
       "      <td>5.0</td>\n",
       "      <td>Red</td>\n",
       "      <td>Shiraz</td>\n",
       "      <td>Andr van Dyk</td>\n",
       "      <td>NaN</td>\n",
       "    </tr>\n",
       "    <tr>\n",
       "      <th>0</th>\n",
       "      <td>http://schema.org</td>\n",
       "      <td>https://wine.co.za/wine/wine.aspx?WINEID=7</td>\n",
       "      <td>Product</td>\n",
       "      <td>12.0</td>\n",
       "      <td>Sauvignon Blanc</td>\n",
       "      <td>NaN</td>\n",
       "      <td>A well balanced, full tropical flavoured with ...</td>\n",
       "      <td>NaN</td>\n",
       "      <td>http://images.wine.co.za/GetWineImage.ashx?Ima...</td>\n",
       "      <td>Boland Sauvignon Blanc 2000</td>\n",
       "      <td>...</td>\n",
       "      <td>Bottle</td>\n",
       "      <td>4.0</td>\n",
       "      <td>NaN</td>\n",
       "      <td>7</td>\n",
       "      <td>NaN</td>\n",
       "      <td>6.0</td>\n",
       "      <td>White</td>\n",
       "      <td>Sauvignon Blanc</td>\n",
       "      <td>Johan Joubert</td>\n",
       "      <td>NaN</td>\n",
       "    </tr>\n",
       "  </tbody>\n",
       "</table>\n",
       "<p>5 rows × 22 columns</p>\n",
       "</div>"
      ],
      "text/plain": [
       "            @context                                         @id    @type  \\\n",
       "0  http://schema.org  https://wine.co.za/wine/wine.aspx?WINEID=2  Product   \n",
       "0  http://schema.org  https://wine.co.za/wine/wine.aspx?WINEID=4  Product   \n",
       "0  http://schema.org  https://wine.co.za/wine/wine.aspx?WINEID=5  Product   \n",
       "0  http://schema.org  https://wine.co.za/wine/wine.aspx?WINEID=6  Product   \n",
       "0  http://schema.org  https://wine.co.za/wine/wine.aspx?WINEID=7  Product   \n",
       "\n",
       "    alc            category closure  \\\n",
       "0  17.0  Muscat dAlexandrie     NaN   \n",
       "0  12.0  Cabernet Sauvignon     NaN   \n",
       "0  12.0  Cabernet Sauvignon     NaN   \n",
       "0  13.0              Shiraz     NaN   \n",
       "0  12.0     Sauvignon Blanc     NaN   \n",
       "\n",
       "                                         description foodnote  \\\n",
       "0                                                NaN      NaN   \n",
       "0                                                NaN      NaN   \n",
       "0  Immense in all proportions, this wine defines ...      NaN   \n",
       "0  This is an elegant and flavoursome Shiraz with...      NaN   \n",
       "0  A well balanced, full tropical flavoured with ...      NaN   \n",
       "\n",
       "                                               image  \\\n",
       "0  http://images.wine.co.za/GetWineImage.ashx?Ima...   \n",
       "0  http://images.wine.co.za/GetWineImage.ashx?Ima...   \n",
       "0  http://images.wine.co.za/GetWineImage.ashx?Ima...   \n",
       "0  http://images.wine.co.za/GetWineImage.ashx?Ima...   \n",
       "0  http://images.wine.co.za/GetWineImage.ashx?Ima...   \n",
       "\n",
       "                                   name   ...       pack   rs size  sku style  \\\n",
       "0     L Emigre Muscat d Alexandrie 1998   ...        NaN  NaN  NaN    2   NaN   \n",
       "0  Genesis Cabernet Sauvignon 1997/1998   ...        NaN  1.0  NaN    4   NaN   \n",
       "0          Rustenberg Peter Barlow 1996   ...     Bottle  1.0  NaN    5  Dry    \n",
       "0              Henri Roselt Shiraz 1999   ...        NaN  2.0  NaN    6   NaN   \n",
       "0           Boland Sauvignon Blanc 2000   ...     Bottle  4.0  NaN    7   NaN   \n",
       "\n",
       "    ta    type             variety      winemaker     wood  \n",
       "0  NaN     NaN  Muscat dAlexandrie            NaN      NaN  \n",
       "0  5.0    Red   Cabernet Sauvignon    Chris Kelly      NaN  \n",
       "0  6.0    Red   Cabernet Sauvignon   Rod Easthope   wooded  \n",
       "0  5.0    Red               Shiraz   Andr van Dyk      NaN  \n",
       "0  6.0  White      Sauvignon Blanc  Johan Joubert      NaN  \n",
       "\n",
       "[5 rows x 22 columns]"
      ]
     },
     "execution_count": 526,
     "metadata": {},
     "output_type": "execute_result"
    }
   ],
   "source": [
    "wines = pd.read_csv(\n",
    "    '~/Google Drive/Data Science/WineData/wineData_1_44000.csv',\n",
    "    index_col=0)\n",
    "wines.head()"
   ]
  },
  {
   "cell_type": "code",
   "execution_count": 527,
   "metadata": {},
   "outputs": [
    {
     "name": "stdout",
     "output_type": "stream",
     "text": [
      "<class 'pandas.core.frame.DataFrame'>\n",
      "Int64Index: 31972 entries, 0 to 0\n",
      "Data columns (total 22 columns):\n",
      "@context       31972 non-null object\n",
      "@id            31972 non-null object\n",
      "@type          31972 non-null object\n",
      "alc            29432 non-null float64\n",
      "category       31235 non-null object\n",
      "closure        22665 non-null object\n",
      "description    27687 non-null object\n",
      "foodnote       14345 non-null object\n",
      "image          31972 non-null object\n",
      "name           31972 non-null object\n",
      "origin         27051 non-null object\n",
      "pH             28053 non-null float64\n",
      "pack           28043 non-null object\n",
      "rs             28424 non-null float64\n",
      "size           9698 non-null object\n",
      "sku            31972 non-null int64\n",
      "style          18686 non-null object\n",
      "ta             27871 non-null float64\n",
      "type           28870 non-null object\n",
      "variety        30838 non-null object\n",
      "winemaker      30603 non-null object\n",
      "wood           13804 non-null object\n",
      "dtypes: float64(4), int64(1), object(17)\n",
      "memory usage: 5.6+ MB\n"
     ]
    }
   ],
   "source": [
    "wines.info()"
   ]
  },
  {
   "cell_type": "code",
   "execution_count": null,
   "metadata": {
    "collapsed": true
   },
   "outputs": [],
   "source": []
  }
 ],
 "metadata": {
  "kernelspec": {
   "display_name": "Python 2",
   "language": "python",
   "name": "python2"
  },
  "language_info": {
   "codemirror_mode": {
    "name": "ipython",
    "version": 2
   },
   "file_extension": ".py",
   "mimetype": "text/x-python",
   "name": "python",
   "nbconvert_exporter": "python",
   "pygments_lexer": "ipython2",
   "version": "2.7.13"
  }
 },
 "nbformat": 4,
 "nbformat_minor": 1
}
