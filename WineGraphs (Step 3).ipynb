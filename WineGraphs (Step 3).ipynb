{
 "cells": [
  {
   "cell_type": "code",
   "execution_count": 44,
   "metadata": {
    "collapsed": true
   },
   "outputs": [],
   "source": [
    "import networkx as nx\n",
    "import mpld3\n",
    "import matplotlib.pyplot as plt\n",
    "from numpy import random\n",
    "import pandas as pd\n",
    "import pickle\n",
    "import numpy as np\n",
    "import sys\n",
    "import seaborn as sns\n",
    "import requests\n",
    "from bs4 import BeautifulSoup\n",
    "import time\n",
    "import nltk\n",
    "import gensim\n",
    "from gensim.models.doc2vec import Doc2Vec\n",
    "from nltk.stem.snowball import SnowballStemmer\n",
    "import re\n",
    "\n",
    "sns.set_palette('Dark2')\n",
    "plt.rcParams['figure.figsize'] = (8,6)\n",
    "%matplotlib inline\n"
   ]
  },
  {
   "cell_type": "code",
   "execution_count": 4,
   "metadata": {},
   "outputs": [
    {
     "data": {
      "text/html": [
       "<div>\n",
       "<style>\n",
       "    .dataframe thead tr:only-child th {\n",
       "        text-align: right;\n",
       "    }\n",
       "\n",
       "    .dataframe thead th {\n",
       "        text-align: left;\n",
       "    }\n",
       "\n",
       "    .dataframe tbody tr th {\n",
       "        vertical-align: top;\n",
       "    }\n",
       "</style>\n",
       "<table border=\"1\" class=\"dataframe\">\n",
       "  <thead>\n",
       "    <tr style=\"text-align: right;\">\n",
       "      <th></th>\n",
       "      <th>level_0</th>\n",
       "      <th>index</th>\n",
       "      <th>@context</th>\n",
       "      <th>@id</th>\n",
       "      <th>@type</th>\n",
       "      <th>alc</th>\n",
       "      <th>category</th>\n",
       "      <th>closure</th>\n",
       "      <th>description</th>\n",
       "      <th>foodnote</th>\n",
       "      <th>...</th>\n",
       "      <th>rs</th>\n",
       "      <th>size</th>\n",
       "      <th>sku</th>\n",
       "      <th>style</th>\n",
       "      <th>ta</th>\n",
       "      <th>type</th>\n",
       "      <th>variety</th>\n",
       "      <th>winemaker</th>\n",
       "      <th>wood</th>\n",
       "      <th>year</th>\n",
       "    </tr>\n",
       "  </thead>\n",
       "  <tbody>\n",
       "    <tr>\n",
       "      <th>0</th>\n",
       "      <td>2</td>\n",
       "      <td>0</td>\n",
       "      <td>http://schema.org</td>\n",
       "      <td>https://wine.co.za/wine/wine.aspx?WINEID=5</td>\n",
       "      <td>Product</td>\n",
       "      <td>12.0</td>\n",
       "      <td>Cabernet Sauvignon</td>\n",
       "      <td>NaN</td>\n",
       "      <td>Immense in all proportions, this wine defines ...</td>\n",
       "      <td>NaN</td>\n",
       "      <td>...</td>\n",
       "      <td>1.0</td>\n",
       "      <td>NaN</td>\n",
       "      <td>5</td>\n",
       "      <td>Dry</td>\n",
       "      <td>6.0</td>\n",
       "      <td>Red</td>\n",
       "      <td>Cabernet Sauvignon</td>\n",
       "      <td>Rod Easthope</td>\n",
       "      <td>wooded</td>\n",
       "      <td>1996.0</td>\n",
       "    </tr>\n",
       "    <tr>\n",
       "      <th>1</th>\n",
       "      <td>3</td>\n",
       "      <td>0</td>\n",
       "      <td>http://schema.org</td>\n",
       "      <td>https://wine.co.za/wine/wine.aspx?WINEID=6</td>\n",
       "      <td>Product</td>\n",
       "      <td>13.0</td>\n",
       "      <td>Shiraz</td>\n",
       "      <td>NaN</td>\n",
       "      <td>This is an elegant and flavoursome Shiraz with...</td>\n",
       "      <td>NaN</td>\n",
       "      <td>...</td>\n",
       "      <td>2.0</td>\n",
       "      <td>NaN</td>\n",
       "      <td>6</td>\n",
       "      <td>NaN</td>\n",
       "      <td>5.0</td>\n",
       "      <td>Red</td>\n",
       "      <td>Shiraz</td>\n",
       "      <td>Andr van Dyk</td>\n",
       "      <td>NaN</td>\n",
       "      <td>1999.0</td>\n",
       "    </tr>\n",
       "    <tr>\n",
       "      <th>2</th>\n",
       "      <td>4</td>\n",
       "      <td>0</td>\n",
       "      <td>http://schema.org</td>\n",
       "      <td>https://wine.co.za/wine/wine.aspx?WINEID=7</td>\n",
       "      <td>Product</td>\n",
       "      <td>12.0</td>\n",
       "      <td>Sauvignon Blanc</td>\n",
       "      <td>NaN</td>\n",
       "      <td>A well balanced, full tropical flavoured with ...</td>\n",
       "      <td>NaN</td>\n",
       "      <td>...</td>\n",
       "      <td>4.0</td>\n",
       "      <td>NaN</td>\n",
       "      <td>7</td>\n",
       "      <td>NaN</td>\n",
       "      <td>6.0</td>\n",
       "      <td>White</td>\n",
       "      <td>Sauvignon Blanc</td>\n",
       "      <td>Johan Joubert</td>\n",
       "      <td>NaN</td>\n",
       "      <td>2000.0</td>\n",
       "    </tr>\n",
       "    <tr>\n",
       "      <th>3</th>\n",
       "      <td>5</td>\n",
       "      <td>0</td>\n",
       "      <td>http://schema.org</td>\n",
       "      <td>https://wine.co.za/wine/wine.aspx?WINEID=10</td>\n",
       "      <td>Product</td>\n",
       "      <td>18.0</td>\n",
       "      <td>Ruby Cabernet</td>\n",
       "      <td>NaN</td>\n",
       "      <td>A Ruby tipe port blended from Ruby Cabernet, f...</td>\n",
       "      <td>NaN</td>\n",
       "      <td>...</td>\n",
       "      <td>104.0</td>\n",
       "      <td>NaN</td>\n",
       "      <td>10</td>\n",
       "      <td>NaN</td>\n",
       "      <td>5.0</td>\n",
       "      <td>NaN</td>\n",
       "      <td>Ruby Cabernet</td>\n",
       "      <td>Christie Steytler/Elmo du Plessis</td>\n",
       "      <td>NaN</td>\n",
       "      <td>1998.0</td>\n",
       "    </tr>\n",
       "    <tr>\n",
       "      <th>4</th>\n",
       "      <td>6</td>\n",
       "      <td>0</td>\n",
       "      <td>http://schema.org</td>\n",
       "      <td>https://wine.co.za/wine/wine.aspx?WINEID=11</td>\n",
       "      <td>Product</td>\n",
       "      <td>13.0</td>\n",
       "      <td>Chenin Blanc</td>\n",
       "      <td>NaN</td>\n",
       "      <td>Dry wine with fruity quava bouquet and flavour.</td>\n",
       "      <td>NaN</td>\n",
       "      <td>...</td>\n",
       "      <td>3.0</td>\n",
       "      <td>NaN</td>\n",
       "      <td>11</td>\n",
       "      <td>NaN</td>\n",
       "      <td>5.0</td>\n",
       "      <td>White</td>\n",
       "      <td>Chenin Blanc</td>\n",
       "      <td>De Wet Lategan</td>\n",
       "      <td>NaN</td>\n",
       "      <td>1999.0</td>\n",
       "    </tr>\n",
       "  </tbody>\n",
       "</table>\n",
       "<p>5 rows × 25 columns</p>\n",
       "</div>"
      ],
      "text/plain": [
       "   level_0  index           @context  \\\n",
       "0        2      0  http://schema.org   \n",
       "1        3      0  http://schema.org   \n",
       "2        4      0  http://schema.org   \n",
       "3        5      0  http://schema.org   \n",
       "4        6      0  http://schema.org   \n",
       "\n",
       "                                           @id    @type   alc  \\\n",
       "0   https://wine.co.za/wine/wine.aspx?WINEID=5  Product  12.0   \n",
       "1   https://wine.co.za/wine/wine.aspx?WINEID=6  Product  13.0   \n",
       "2   https://wine.co.za/wine/wine.aspx?WINEID=7  Product  12.0   \n",
       "3  https://wine.co.za/wine/wine.aspx?WINEID=10  Product  18.0   \n",
       "4  https://wine.co.za/wine/wine.aspx?WINEID=11  Product  13.0   \n",
       "\n",
       "             category closure  \\\n",
       "0  Cabernet Sauvignon     NaN   \n",
       "1              Shiraz     NaN   \n",
       "2     Sauvignon Blanc     NaN   \n",
       "3       Ruby Cabernet     NaN   \n",
       "4        Chenin Blanc     NaN   \n",
       "\n",
       "                                         description foodnote   ...       rs  \\\n",
       "0  Immense in all proportions, this wine defines ...      NaN   ...      1.0   \n",
       "1  This is an elegant and flavoursome Shiraz with...      NaN   ...      2.0   \n",
       "2  A well balanced, full tropical flavoured with ...      NaN   ...      4.0   \n",
       "3  A Ruby tipe port blended from Ruby Cabernet, f...      NaN   ...    104.0   \n",
       "4    Dry wine with fruity quava bouquet and flavour.      NaN   ...      3.0   \n",
       "\n",
       "  size sku  style   ta    type             variety  \\\n",
       "0  NaN   5   Dry   6.0    Red   Cabernet Sauvignon   \n",
       "1  NaN   6    NaN  5.0    Red               Shiraz   \n",
       "2  NaN   7    NaN  6.0  White      Sauvignon Blanc   \n",
       "3  NaN  10    NaN  5.0     NaN       Ruby Cabernet   \n",
       "4  NaN  11    NaN  5.0  White         Chenin Blanc   \n",
       "\n",
       "                           winemaker     wood    year  \n",
       "0                       Rod Easthope   wooded  1996.0  \n",
       "1                       Andr van Dyk      NaN  1999.0  \n",
       "2                      Johan Joubert      NaN  2000.0  \n",
       "3  Christie Steytler/Elmo du Plessis      NaN  1998.0  \n",
       "4                     De Wet Lategan      NaN  1999.0  \n",
       "\n",
       "[5 rows x 25 columns]"
      ]
     },
     "execution_count": 4,
     "metadata": {},
     "output_type": "execute_result"
    }
   ],
   "source": [
    "wines = pd.read_csv(\n",
    "    '~/Google Drive/Data Science/WineData/wineData_1_44000.csv',\n",
    "    index_col=0, encoding=\"utf-8\")\n",
    "wines = wines.dropna(subset=['description'])\n",
    "wines = wines.reset_index()\n",
    "wines.head()"
   ]
  },
  {
   "cell_type": "code",
   "execution_count": 5,
   "metadata": {},
   "outputs": [
    {
     "name": "stdout",
     "output_type": "stream",
     "text": [
      "<class 'pandas.core.frame.DataFrame'>\n",
      "RangeIndex: 27687 entries, 0 to 27686\n",
      "Data columns (total 25 columns):\n",
      "level_0        27687 non-null int64\n",
      "index          27687 non-null int64\n",
      "@context       27687 non-null object\n",
      "@id            27687 non-null object\n",
      "@type          27687 non-null object\n",
      "alc            26190 non-null float64\n",
      "category       27098 non-null object\n",
      "closure        19725 non-null object\n",
      "description    27687 non-null object\n",
      "foodnote       14252 non-null object\n",
      "image          27687 non-null object\n",
      "name           27687 non-null object\n",
      "origin         24996 non-null object\n",
      "pH             25175 non-null float64\n",
      "pack           24768 non-null object\n",
      "rs             25512 non-null float64\n",
      "size           9527 non-null object\n",
      "sku            27687 non-null int64\n",
      "style          17278 non-null object\n",
      "ta             25104 non-null float64\n",
      "type           25110 non-null object\n",
      "variety        26722 non-null object\n",
      "winemaker      26925 non-null object\n",
      "wood           12877 non-null object\n",
      "year           25503 non-null float64\n",
      "dtypes: float64(5), int64(3), object(17)\n",
      "memory usage: 5.3+ MB\n"
     ]
    }
   ],
   "source": [
    "wines.info()"
   ]
  },
  {
   "cell_type": "markdown",
   "metadata": {},
   "source": [
    "# Cleaning data"
   ]
  },
  {
   "cell_type": "code",
   "execution_count": 6,
   "metadata": {
    "collapsed": true
   },
   "outputs": [],
   "source": [
    "# def decode_reencode(text):\n",
    "#     return text.decode('utf-8', 'ignore').encode('ascii', 'ignore')\n",
    "# wines.description = wines.description\n",
    "# wines.description.head()"
   ]
  },
  {
   "cell_type": "markdown",
   "metadata": {},
   "source": [
    "# Finding similarity between wines"
   ]
  },
  {
   "cell_type": "markdown",
   "metadata": {},
   "source": [
    "In order to find the similarity between the tasting notes, I will use Doc2Vec (https://radimrehurek.com/gensim/models/doc2vec.html)\n",
    "also assisted by https://github.com/RaRe-Technologies/gensim/blob/develop/docs/notebooks/doc2vec-lee.ipynb\n",
    "\n",
    "First comes the split between testing and training"
   ]
  },
  {
   "cell_type": "code",
   "execution_count": 8,
   "metadata": {},
   "outputs": [],
   "source": [
    "mask = np.random.random(size=len(wines)) < 0.9\n",
    "np.save(' training_mask',mask)\n",
    "train = list(wines.description[mask])\n",
    "test = list(wines.description[~mask])"
   ]
  },
  {
   "cell_type": "code",
   "execution_count": 9,
   "metadata": {
    "collapsed": true
   },
   "outputs": [],
   "source": [
    "def read_docs(text, tokens_only=False):\n",
    "    corpus = []\n",
    "    for i, line in enumerate(text):\n",
    "        if tokens_only:\n",
    "            corpus.append(\n",
    "                gensim.utils.simple_preprocess(line))\n",
    "        else:\n",
    "            corpus.append(\n",
    "                gensim.models.doc2vec.TaggedDocument(\n",
    "                gensim.utils.simple_preprocess(line),\n",
    "                    [i]))\n",
    "    return corpus\n",
    "        \n",
    "train_corpus = list(read_docs(train))\n",
    "test_corpus = list(read_docs(test, tokens_only=True))"
   ]
  },
  {
   "cell_type": "code",
   "execution_count": 10,
   "metadata": {
    "collapsed": true
   },
   "outputs": [],
   "source": [
    "model = Doc2Vec(size=50,\n",
    "                window=5, \n",
    "                min_count=4, \n",
    "                workers=2,\n",
    "               iter=50)\n",
    "\n",
    "model.build_vocab(train_corpus)"
   ]
  },
  {
   "cell_type": "code",
   "execution_count": 11,
   "metadata": {},
   "outputs": [
    {
     "data": {
      "text/plain": [
       "34280317"
      ]
     },
     "execution_count": 11,
     "metadata": {},
     "output_type": "execute_result"
    }
   ],
   "source": [
    "model.train(train_corpus, \n",
    "            total_examples=model.corpus_count,\n",
    "            epochs=model.iter)"
   ]
  },
  {
   "cell_type": "code",
   "execution_count": 12,
   "metadata": {
    "collapsed": true
   },
   "outputs": [],
   "source": [
    "model.save('descriptions_doc2vec')"
   ]
  },
  {
   "cell_type": "code",
   "execution_count": 13,
   "metadata": {},
   "outputs": [
    {
     "name": "stdout",
     "output_type": "stream",
     "text": [
      "Training example:\n",
      "TaggedDocument([u'this', u'is', u'an', u'elegant', u'and', u'flavoursome', u'shiraz', u'with', u'typical', u'smoky', u'aromas', u'the', u'pleasant', u'oak', u'element', u'adds', u'additional', u'flavour', u'to', u'wine', u'which', u'is', u'already', u'extremely', u'drinkable', u'but', u'will', u'benefit', u'further', u'from', u'few', u'years', u'in', u'the', u'bottle'], [1]) \n",
      "\n",
      "Inferred vector:\n",
      "[-0.0930359  -0.30942932  0.39607388  0.45649219  0.27134851  0.44686744\n",
      "  0.61827892  0.30839178 -0.08189704 -0.00677106 -0.22757369  0.44066882\n",
      " -0.05589475  0.14599653  0.13611734 -0.25776219 -0.14768726 -0.15126583\n",
      "  0.10687597  0.343086    0.03484654  0.10171247  0.25902629 -0.06561485\n",
      "  0.66637981  0.78560984  0.51179874  0.51891065 -0.00267251  0.14817163\n",
      "  0.40904647  0.07971036 -0.50989825 -0.09189577 -0.55828309  0.5867455\n",
      "  0.06072885 -0.03525263  0.06929871  0.23024754  0.39947405 -0.09008864\n",
      "  0.18071322  0.22674729  0.06049408 -0.01762876  0.17230511  0.5450272\n",
      " -0.06176009 -0.30915669]\n"
     ]
    }
   ],
   "source": [
    "print 'Training example:\\n',train_corpus[1], '\\n'\n",
    "print 'Inferred vector:\\n', \\\n",
    "    model.infer_vector(train_corpus[1][0])\n"
   ]
  },
  {
   "cell_type": "code",
   "execution_count": 14,
   "metadata": {},
   "outputs": [
    {
     "name": "stdout",
     "output_type": "stream",
     "text": [
      "Test Document (1): «bright and clear the colour of straw with pleasant gooseberry flavours and hints of straw and asparagus complex interplay of tastes crisp and dry with medium to long aftertaste»\n",
      "\n",
      "SIMILAR/DISSIMILAR DOCS PER MODEL Doc2Vec(dm/m,d50,n5,w5,mc4,s0.001,t2):\n",
      "\n",
      "MOST (16310, 0.75765460729599): «natural fermentation no added yeast months matured in french oak barrels citrus fruit and crispness is retained wood perfectly integrated on palate»\n",
      "\n",
      "MEDIAN (22904, 0.27647846937179565): «considered as one of the noble wine varietals full bodied wine which can age very well with flavours of cassis blackberries and other dark fruits with tobacco and cigar box complexities well balanced with fine integrated tannins»\n",
      "\n",
      "LEAST (24610, -0.2500000596046448): «the brick red colour of the grenache is well matched by ripe plum perfumes savoury note adds to the allure on the palate the wine is succulent supple and round the bright fruit endures to the finish and creates persistent aftertaste»\n",
      "\n"
     ]
    }
   ],
   "source": [
    "inferred_vector = model.infer_vector(test_corpus[1])\n",
    "sims = model.docvecs.most_similar([inferred_vector],\n",
    "                                  topn=len(model.docvecs))\n",
    "\n",
    "# Compare and print the most/median/least similar documents from the train corpus\n",
    "print('Test Document ({}): «{}»\\n'.format(1, ' '.join(test_corpus[1])))\n",
    "print(u'SIMILAR/DISSIMILAR DOCS PER MODEL %s:\\n' % model)\n",
    "for label, index in [('MOST', 0), ('MEDIAN', len(sims)//2),\n",
    "                     ('LEAST', len(sims) - 1)]:\n",
    "    print(u'%s %s: «%s»\\n' % (label, sims[index],\n",
    "                              ' '.join(train_corpus[sims[index][0]].words)))"
   ]
  },
  {
   "cell_type": "markdown",
   "metadata": {},
   "source": [
    "# Making a graph\n",
    "\n",
    "Now that I've established that the document training works, I want to have all of the wines in the model so I can check similarities"
   ]
  },
  {
   "cell_type": "code",
   "execution_count": 46,
   "metadata": {},
   "outputs": [
    {
     "data": {
      "text/plain": [
       "38098747"
      ]
     },
     "execution_count": 46,
     "metadata": {},
     "output_type": "execute_result"
    }
   ],
   "source": [
    "descriptions = list(read_docs(wines.description))\n",
    "pickle.dump(descriptions, open('preprocessed_descriptions.pkl',\n",
    "                 'wb'))\n",
    "model = Doc2Vec(size=50,\n",
    "                window=5, \n",
    "                min_count=4, \n",
    "                workers=2,\n",
    "               iter=50)\n",
    "model.build_vocab(descriptions)\n",
    "model.train(descriptions, \n",
    "            total_examples=model.corpus_count,\n",
    "            epochs=model.iter)"
   ]
  },
  {
   "cell_type": "code",
   "execution_count": 42,
   "metadata": {},
   "outputs": [],
   "source": [
    "G=nx.Graph()\n",
    "for i in range(len(train)):\n",
    "    row = wines.loc[i]\n",
    "    current_vector = model.infer_vector(\n",
    "        descriptions[i][0])\n",
    "    G.add_node(i)\n",
    "    connections = model.docvecs.most_similar([inferred_vector],\n",
    "                      topn=3)\n",
    "    for j in range(len(connections)):\n",
    "        index = connections[j][0]\n",
    "        new_row = wines.iloc[index,:]\n",
    "        G.add_node(index)\n",
    "        G.add_edge(i, index)\n"
   ]
  },
  {
   "cell_type": "code",
   "execution_count": null,
   "metadata": {
    "scrolled": true
   },
   "outputs": [],
   "source": [
    "pos = nx.spring_layout(G)\n",
    "nx.draw(G)"
   ]
  },
  {
   "cell_type": "code",
   "execution_count": null,
   "metadata": {
    "collapsed": true
   },
   "outputs": [],
   "source": [
    "import json\n",
    "from networkx.readwrite import json_graph"
   ]
  },
  {
   "cell_type": "code",
   "execution_count": null,
   "metadata": {
    "collapsed": true
   },
   "outputs": [],
   "source": [
    "for n in G:\n",
    "    row = wines.iloc[n]\n",
    "    row = row.fillna('')\n",
    "    G.node[n]['id'] = n\n",
    "    G.node[n]['name'] = row['name']\n",
    "    G.node[n]['year'] = row['year']\n",
    "    G.node[n]['type'] = row['type']\n",
    "    G.node[n]['variety'] = row['variety']\n",
    "    G.node[n]['link'] = row['@id']\n",
    "    G.node[n]['category'] = row['category']"
   ]
  },
  {
   "cell_type": "code",
   "execution_count": null,
   "metadata": {
    "collapsed": true
   },
   "outputs": [],
   "source": [
    "d = json_graph.node_link_data(G)\n",
    "json.dump(d, open('graph/data/graph.json','w'))"
   ]
  },
  {
   "cell_type": "code",
   "execution_count": null,
   "metadata": {},
   "outputs": [],
   "source": [
    "import flask\n",
    "# Serve the file over http to allow for cross origin requests\n",
    "app = flask.Flask(__name__, static_folder=\"graph\")\n",
    "\n",
    "@app.route('/<path:path>')\n",
    "def static_proxy(path):\n",
    "    return app.send_static_file(path)\n",
    "\n",
    "print('\\nGo to http://localhost:8000/graph.html to see the example\\n')\n",
    "app.run(port=8000)"
   ]
  },
  {
   "cell_type": "code",
   "execution_count": null,
   "metadata": {
    "collapsed": true
   },
   "outputs": [],
   "source": []
  }
 ],
 "metadata": {
  "kernelspec": {
   "display_name": "Python 2",
   "language": "python",
   "name": "python2"
  },
  "language_info": {
   "codemirror_mode": {
    "name": "ipython",
    "version": 2
   },
   "file_extension": ".py",
   "mimetype": "text/x-python",
   "name": "python",
   "nbconvert_exporter": "python",
   "pygments_lexer": "ipython2",
   "version": "2.7.13"
  }
 },
 "nbformat": 4,
 "nbformat_minor": 1
}
