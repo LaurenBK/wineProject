{
 "cells": [
  {
   "cell_type": "code",
   "execution_count": 1,
   "metadata": {
    "collapsed": true
   },
   "outputs": [],
   "source": [
    "import networkx as nx\n",
    "import mpld3\n",
    "import matplotlib.pyplot as plt\n",
    "from numpy import random\n",
    "import pandas as pd\n",
    "import pickle\n",
    "import numpy as np\n",
    "import sys\n",
    "import seaborn as sns\n",
    "import requests\n",
    "from bs4 import BeautifulSoup\n",
    "import time\n",
    "import nltk\n",
    "import gensim\n",
    "from gensim.models.doc2vec import Doc2Vec\n",
    "from nltk.stem.snowball import SnowballStemmer\n",
    "import re\n",
    "\n",
    "sns.set_palette('Dark2')\n",
    "plt.rcParams['figure.figsize'] = (8,6)\n",
    "%matplotlib inline\n",
    "\n",
    "# custom file\n",
    "import wine_config # wine_config.get_config() is a dict\n",
    "config = wine_config.get_config()"
   ]
  },
  {
   "cell_type": "code",
   "execution_count": 2,
   "metadata": {
    "collapsed": true
   },
   "outputs": [],
   "source": [
    "path = config['path']"
   ]
  },
  {
   "cell_type": "code",
   "execution_count": 46,
   "metadata": {},
   "outputs": [],
   "source": [
    "wines = pd.read_csv(\n",
    "    path +'Google Drive/Data Science/WineData/cleaned_wine_data.csv', \n",
    "    encoding='utf-8')"
   ]
  },
  {
   "cell_type": "code",
   "execution_count": 62,
   "metadata": {},
   "outputs": [
    {
     "data": {
      "text/html": [
       "<div>\n",
       "<style>\n",
       "    .dataframe thead tr:only-child th {\n",
       "        text-align: right;\n",
       "    }\n",
       "\n",
       "    .dataframe thead th {\n",
       "        text-align: left;\n",
       "    }\n",
       "\n",
       "    .dataframe tbody tr th {\n",
       "        vertical-align: top;\n",
       "    }\n",
       "</style>\n",
       "<table border=\"1\" class=\"dataframe\">\n",
       "  <thead>\n",
       "    <tr style=\"text-align: right;\">\n",
       "      <th></th>\n",
       "      <th>@context</th>\n",
       "      <th>@id</th>\n",
       "      <th>@type</th>\n",
       "      <th>alc</th>\n",
       "      <th>category</th>\n",
       "      <th>closure</th>\n",
       "      <th>description</th>\n",
       "      <th>foodnote</th>\n",
       "      <th>image</th>\n",
       "      <th>name</th>\n",
       "      <th>...</th>\n",
       "      <th>rs</th>\n",
       "      <th>size</th>\n",
       "      <th>sku</th>\n",
       "      <th>style</th>\n",
       "      <th>ta</th>\n",
       "      <th>type</th>\n",
       "      <th>variety</th>\n",
       "      <th>winemaker</th>\n",
       "      <th>wood</th>\n",
       "      <th>year</th>\n",
       "    </tr>\n",
       "  </thead>\n",
       "  <tbody>\n",
       "    <tr>\n",
       "      <th>2</th>\n",
       "      <td>http://schema.org</td>\n",
       "      <td>https://wine.co.za/wine/wine.aspx?WINEID=5</td>\n",
       "      <td>Product</td>\n",
       "      <td>12.0</td>\n",
       "      <td>Cabernet Sauvignon</td>\n",
       "      <td>NaN</td>\n",
       "      <td>Immense in all proportions, this wine defines ...</td>\n",
       "      <td>NaN</td>\n",
       "      <td>http://images.wine.co.za/GetWineImage.ashx?Ima...</td>\n",
       "      <td>Rustenberg Peter Barlow 1996</td>\n",
       "      <td>...</td>\n",
       "      <td>1.0</td>\n",
       "      <td>NaN</td>\n",
       "      <td>5</td>\n",
       "      <td>Dry</td>\n",
       "      <td>6.0</td>\n",
       "      <td>Red</td>\n",
       "      <td>Cabernet Sauvignon</td>\n",
       "      <td>Rod Easthope</td>\n",
       "      <td>wooded</td>\n",
       "      <td>1996.0</td>\n",
       "    </tr>\n",
       "    <tr>\n",
       "      <th>3</th>\n",
       "      <td>http://schema.org</td>\n",
       "      <td>https://wine.co.za/wine/wine.aspx?WINEID=6</td>\n",
       "      <td>Product</td>\n",
       "      <td>13.0</td>\n",
       "      <td>Shiraz</td>\n",
       "      <td>NaN</td>\n",
       "      <td>This is an elegant and flavoursome Shiraz with...</td>\n",
       "      <td>NaN</td>\n",
       "      <td>http://images.wine.co.za/GetWineImage.ashx?Ima...</td>\n",
       "      <td>Henri Roselt Shiraz 1999</td>\n",
       "      <td>...</td>\n",
       "      <td>2.0</td>\n",
       "      <td>NaN</td>\n",
       "      <td>6</td>\n",
       "      <td>NaN</td>\n",
       "      <td>5.0</td>\n",
       "      <td>Red</td>\n",
       "      <td>Shiraz</td>\n",
       "      <td>Andr van Dyk</td>\n",
       "      <td>NaN</td>\n",
       "      <td>1999.0</td>\n",
       "    </tr>\n",
       "    <tr>\n",
       "      <th>4</th>\n",
       "      <td>http://schema.org</td>\n",
       "      <td>https://wine.co.za/wine/wine.aspx?WINEID=7</td>\n",
       "      <td>Product</td>\n",
       "      <td>12.0</td>\n",
       "      <td>Sauvignon Blanc</td>\n",
       "      <td>NaN</td>\n",
       "      <td>A well balanced, full tropical flavoured with ...</td>\n",
       "      <td>NaN</td>\n",
       "      <td>http://images.wine.co.za/GetWineImage.ashx?Ima...</td>\n",
       "      <td>Boland Sauvignon Blanc 2000</td>\n",
       "      <td>...</td>\n",
       "      <td>4.0</td>\n",
       "      <td>NaN</td>\n",
       "      <td>7</td>\n",
       "      <td>NaN</td>\n",
       "      <td>6.0</td>\n",
       "      <td>White</td>\n",
       "      <td>Sauvignon Blanc</td>\n",
       "      <td>Johan Joubert</td>\n",
       "      <td>NaN</td>\n",
       "      <td>2000.0</td>\n",
       "    </tr>\n",
       "    <tr>\n",
       "      <th>5</th>\n",
       "      <td>http://schema.org</td>\n",
       "      <td>https://wine.co.za/wine/wine.aspx?WINEID=10</td>\n",
       "      <td>Product</td>\n",
       "      <td>18.0</td>\n",
       "      <td>Ruby Cabernet</td>\n",
       "      <td>NaN</td>\n",
       "      <td>A Ruby tipe port blended from Ruby Cabernet, f...</td>\n",
       "      <td>NaN</td>\n",
       "      <td>http://images.wine.co.za/GetWineImage.ashx?Ima...</td>\n",
       "      <td>Roodezandt Port 1998</td>\n",
       "      <td>...</td>\n",
       "      <td>104.0</td>\n",
       "      <td>NaN</td>\n",
       "      <td>10</td>\n",
       "      <td>NaN</td>\n",
       "      <td>5.0</td>\n",
       "      <td>NaN</td>\n",
       "      <td>Ruby Cabernet</td>\n",
       "      <td>Christie Steytler/Elmo du Plessis</td>\n",
       "      <td>NaN</td>\n",
       "      <td>1998.0</td>\n",
       "    </tr>\n",
       "    <tr>\n",
       "      <th>6</th>\n",
       "      <td>http://schema.org</td>\n",
       "      <td>https://wine.co.za/wine/wine.aspx?WINEID=11</td>\n",
       "      <td>Product</td>\n",
       "      <td>13.0</td>\n",
       "      <td>Chenin Blanc</td>\n",
       "      <td>NaN</td>\n",
       "      <td>Dry wine with fruity quava bouquet and flavour.</td>\n",
       "      <td>NaN</td>\n",
       "      <td>http://images.wine.co.za/GetWineImage.ashx?Ima...</td>\n",
       "      <td>Bergsig Chenin Blanc 1999</td>\n",
       "      <td>...</td>\n",
       "      <td>3.0</td>\n",
       "      <td>NaN</td>\n",
       "      <td>11</td>\n",
       "      <td>NaN</td>\n",
       "      <td>5.0</td>\n",
       "      <td>White</td>\n",
       "      <td>Chenin Blanc</td>\n",
       "      <td>De Wet Lategan</td>\n",
       "      <td>NaN</td>\n",
       "      <td>1999.0</td>\n",
       "    </tr>\n",
       "  </tbody>\n",
       "</table>\n",
       "<p>5 rows × 23 columns</p>\n",
       "</div>"
      ],
      "text/plain": [
       "            @context                                          @id    @type  \\\n",
       "2  http://schema.org   https://wine.co.za/wine/wine.aspx?WINEID=5  Product   \n",
       "3  http://schema.org   https://wine.co.za/wine/wine.aspx?WINEID=6  Product   \n",
       "4  http://schema.org   https://wine.co.za/wine/wine.aspx?WINEID=7  Product   \n",
       "5  http://schema.org  https://wine.co.za/wine/wine.aspx?WINEID=10  Product   \n",
       "6  http://schema.org  https://wine.co.za/wine/wine.aspx?WINEID=11  Product   \n",
       "\n",
       "    alc            category closure  \\\n",
       "2  12.0  Cabernet Sauvignon     NaN   \n",
       "3  13.0              Shiraz     NaN   \n",
       "4  12.0     Sauvignon Blanc     NaN   \n",
       "5  18.0       Ruby Cabernet     NaN   \n",
       "6  13.0        Chenin Blanc     NaN   \n",
       "\n",
       "                                         description foodnote  \\\n",
       "2  Immense in all proportions, this wine defines ...      NaN   \n",
       "3  This is an elegant and flavoursome Shiraz with...      NaN   \n",
       "4  A well balanced, full tropical flavoured with ...      NaN   \n",
       "5  A Ruby tipe port blended from Ruby Cabernet, f...      NaN   \n",
       "6    Dry wine with fruity quava bouquet and flavour.      NaN   \n",
       "\n",
       "                                               image  \\\n",
       "2  http://images.wine.co.za/GetWineImage.ashx?Ima...   \n",
       "3  http://images.wine.co.za/GetWineImage.ashx?Ima...   \n",
       "4  http://images.wine.co.za/GetWineImage.ashx?Ima...   \n",
       "5  http://images.wine.co.za/GetWineImage.ashx?Ima...   \n",
       "6  http://images.wine.co.za/GetWineImage.ashx?Ima...   \n",
       "\n",
       "                           name   ...       rs  size sku  style   ta    type  \\\n",
       "2  Rustenberg Peter Barlow 1996   ...      1.0   NaN   5   Dry   6.0    Red    \n",
       "3      Henri Roselt Shiraz 1999   ...      2.0   NaN   6    NaN  5.0    Red    \n",
       "4   Boland Sauvignon Blanc 2000   ...      4.0   NaN   7    NaN  6.0  White    \n",
       "5          Roodezandt Port 1998   ...    104.0   NaN  10    NaN  5.0     NaN   \n",
       "6     Bergsig Chenin Blanc 1999   ...      3.0   NaN  11    NaN  5.0  White    \n",
       "\n",
       "              variety                          winemaker     wood    year  \n",
       "2  Cabernet Sauvignon                       Rod Easthope   wooded  1996.0  \n",
       "3              Shiraz                       Andr van Dyk      NaN  1999.0  \n",
       "4     Sauvignon Blanc                      Johan Joubert      NaN  2000.0  \n",
       "5       Ruby Cabernet  Christie Steytler/Elmo du Plessis      NaN  1998.0  \n",
       "6        Chenin Blanc                     De Wet Lategan      NaN  1999.0  \n",
       "\n",
       "[5 rows x 23 columns]"
      ]
     },
     "execution_count": 62,
     "metadata": {},
     "output_type": "execute_result"
    }
   ],
   "source": [
    "wines.head()"
   ]
  },
  {
   "cell_type": "code",
   "execution_count": 63,
   "metadata": {},
   "outputs": [
    {
     "name": "stdout",
     "output_type": "stream",
     "text": [
      "<class 'pandas.core.frame.DataFrame'>\n",
      "Int64Index: 27687 entries, 2 to 31971\n",
      "Data columns (total 23 columns):\n",
      "@context       27687 non-null object\n",
      "@id            27687 non-null object\n",
      "@type          27687 non-null object\n",
      "alc            26190 non-null float64\n",
      "category       27098 non-null object\n",
      "closure        19725 non-null object\n",
      "description    27687 non-null object\n",
      "foodnote       14252 non-null object\n",
      "image          27687 non-null object\n",
      "name           27687 non-null object\n",
      "origin         24996 non-null object\n",
      "pH             25175 non-null float64\n",
      "pack           24768 non-null object\n",
      "rs             25512 non-null float64\n",
      "size           9527 non-null object\n",
      "sku            27687 non-null int64\n",
      "style          17278 non-null object\n",
      "ta             25104 non-null float64\n",
      "type           25110 non-null object\n",
      "variety        26722 non-null object\n",
      "winemaker      26925 non-null object\n",
      "wood           12877 non-null object\n",
      "year           25503 non-null float64\n",
      "dtypes: float64(5), int64(1), object(17)\n",
      "memory usage: 5.1+ MB\n"
     ]
    }
   ],
   "source": [
    "wines.info()"
   ]
  },
  {
   "cell_type": "code",
   "execution_count": 66,
   "metadata": {},
   "outputs": [],
   "source": [
    "wines = wines.dropna(subset=['description'])\n",
    "wines = wines[wines.description.str.len() > 5]"
   ]
  },
  {
   "cell_type": "markdown",
   "metadata": {},
   "source": [
    "# Finding similarity between wines"
   ]
  },
  {
   "cell_type": "markdown",
   "metadata": {},
   "source": [
    "In order to find the similarity between the tasting notes, I will use Doc2Vec (https://radimrehurek.com/gensim/models/doc2vec.html)\n",
    "also assisted by https://github.com/RaRe-Technologies/gensim/blob/develop/docs/notebooks/doc2vec-lee.ipynb\n",
    "\n",
    "First comes the split between testing and training"
   ]
  },
  {
   "cell_type": "code",
   "execution_count": 67,
   "metadata": {},
   "outputs": [],
   "source": [
    "mask = np.random.random(size=len(wines)) < 0.9\n",
    "train = list(wines.description[mask])\n",
    "test = list(wines.description[~mask])"
   ]
  },
  {
   "cell_type": "code",
   "execution_count": 68,
   "metadata": {},
   "outputs": [],
   "source": [
    "def read_docs(text, tokens_only=False):\n",
    "    corpus = []\n",
    "    for i, line in enumerate(text):\n",
    "        if tokens_only:\n",
    "            corpus.append(\n",
    "                gensim.utils.simple_preprocess(line))\n",
    "        else:\n",
    "            corpus.append(\n",
    "                gensim.models.doc2vec.TaggedDocument(\n",
    "                gensim.utils.simple_preprocess(line),\n",
    "                    [i]))\n",
    "    return corpus\n",
    "        \n",
    "train_corpus = list(read_docs(train))\n",
    "test_corpus = list(read_docs(test, tokens_only=True))"
   ]
  },
  {
   "cell_type": "code",
   "execution_count": 92,
   "metadata": {},
   "outputs": [],
   "source": [
    "def get_model(train_corpus, save_str = ''):\n",
    "    model = Doc2Vec(size=50,\n",
    "                    window=4, \n",
    "                    min_count=0, \n",
    "                    workers=2,\n",
    "                   iter=100)\n",
    "\n",
    "    model.build_vocab(train_corpus)\n",
    "    model.train(train_corpus, \n",
    "            total_examples=model.corpus_count,\n",
    "            epochs=model.iter)\n",
    "    model.save('doc2vec_' + save_str)\n",
    "    return model"
   ]
  },
  {
   "cell_type": "code",
   "execution_count": 93,
   "metadata": {},
   "outputs": [],
   "source": [
    "training_model = get_model(train_corpus, save_str = 'training')"
   ]
  },
  {
   "cell_type": "code",
   "execution_count": 94,
   "metadata": {},
   "outputs": [
    {
     "name": "stdout",
     "output_type": "stream",
     "text": [
      "Training example:\n",
      "TaggedDocument([u'this', u'is', u'an', u'elegant', u'and', u'flavoursome', u'shiraz', u'with', u'typical', u'smoky', u'aromas', u'the', u'pleasant', u'oak', u'element', u'adds', u'additional', u'flavour', u'to', u'wine', u'which', u'is', u'already', u'extremely', u'drinkable', u'but', u'will', u'benefit', u'further', u'from', u'few', u'years', u'in', u'the', u'bottle'], [1]) \n",
      "\n",
      "Inferred vector:\n",
      "[ 0.1940605  -0.60158938 -0.31766501  0.77563959  0.71324295  0.60047525\n",
      "  0.69790393  0.22005357  0.47502562  0.6432758  -0.58337665  0.34049627\n",
      "  0.23031047  0.2213205   1.01101112  0.00626968 -0.29550421 -0.27270821\n",
      " -0.12685609  0.28050247 -0.33494303  0.16568261  0.75728345 -0.00306649\n",
      "  0.68221104  0.56696492  0.27658865  0.19809303 -0.09725371  0.14785004\n",
      " -0.224849   -0.10680836 -0.77931076 -0.3130326  -0.62900412  0.01773905\n",
      "  0.39310855 -0.32175454 -0.57012308 -0.28464764  0.44019023 -0.03900145\n",
      "  0.43182421  0.16278532  0.33205882 -0.38715026  0.30125064  0.27306148\n",
      "  0.19098963  0.16660278]\n"
     ]
    }
   ],
   "source": [
    "print 'Training example:\\n',train_corpus[1], '\\n'\n",
    "print 'Inferred vector:\\n', \\\n",
    "    training_model.infer_vector(train_corpus[1][0])\n"
   ]
  },
  {
   "cell_type": "code",
   "execution_count": 95,
   "metadata": {},
   "outputs": [
    {
     "name": "stdout",
     "output_type": "stream",
     "text": [
      "Test Document (1): «this wine shows lemon melon and citrus flavours subtly enhanced by the wood component and has full mouth feel with lingering aftertaste»\n",
      "\n",
      "SIMILAR/DISSIMILAR DOCS PER MODEL Doc2Vec(dm/m,d50,n5,w4,s0.001,t2):\n",
      "\n",
      "MOST (6677, 0.7113681435585022): «citrus»\n",
      "\n",
      "MEDIAN (15390, 0.25896942615509033): «it is delicately styled wine with aromas of apple pear and cherries it has crisp balanced acidity that makes it refreshing to enjoy and has firm textures and flavours that linger on in the aftertaste»\n",
      "\n",
      "LEAST (4631, -0.22657670080661774): «ripe and spicy fruit flavours dominate this wild aromatic red blend it is rich juicy and full with generous texture french oaking detail is obvious on the nose and palate and extends to the lengthy elegant finish of this wine»\n",
      "\n",
      "Test Document (5): «this wine has deep purple to ruby red intense and brilliant colour the nose is of cloves sandalwood fresh berries slight spice nuances with ripe tannins clean intense fruit mainly black berries the finish is long full in the mouth with perfect balance»\n",
      "\n",
      "SIMILAR/DISSIMILAR DOCS PER MODEL Doc2Vec(dm/m,d50,n5,w4,s0.001,t2):\n",
      "\n",
      "MOST (1028, 0.733018696308136): «deep purple to ruby red intense brilliant colour cloves sandalwood fresh berries and slight spice nuances ripe tannin clean intense fruit blackberries the finish is long and full in the mouth with excellent balance»\n",
      "\n",
      "MEDIAN (5345, 0.2185397744178772): «this is an opulent sweet fortified wine of unfailingly high quality its colour is that of glowing garnet and the texture luscious and silky characteristic muscat flavours mingle beautifully with the taste of sun dried raisins»\n",
      "\n",
      "LEAST (9593, -0.2512020468711853): «this full sweet dessert wine has orange zest dried fruit oral aromas honey and red bush tea flavours on the nose the fruit is complemented by marzipan and caramel on the soft juicy palate with lingering nutty persistence»\n",
      "\n"
     ]
    }
   ],
   "source": [
    "# Compare and print the most/median/least similar documents from the train corpus\n",
    "def check_document_similarity(doc_id, model):\n",
    "    inferred_vector = training_model.infer_vector(test_corpus[doc_id])\n",
    "    sims = training_model.docvecs.most_similar([inferred_vector],\n",
    "                                  topn=len(training_model.docvecs))\n",
    "    print('Test Document ({}): «{}»\\n'.format(doc_id, ' '.join(test_corpus[doc_id])))\n",
    "    print(u'SIMILAR/DISSIMILAR DOCS PER MODEL %s:\\n' % model)\n",
    "    for label, index in [('MOST', 0), ('MEDIAN', len(sims)//2),\n",
    "                         ('LEAST', len(sims) - 1)]:\n",
    "        print(u'%s %s: «%s»\\n' % (label, sims[index],\n",
    "                                  ' '.join(train_corpus[sims[index][0]].words)))\n",
    "        \n",
    "check_document_similarity(1, training_model)\n",
    "check_document_similarity(5, training_model)"
   ]
  },
  {
   "cell_type": "markdown",
   "metadata": {},
   "source": [
    "The results do seem to be reasonable, so now I will trin on all of the data so I can use the vectors found by doc2vec"
   ]
  },
  {
   "cell_type": "code",
   "execution_count": 96,
   "metadata": {},
   "outputs": [],
   "source": [
    "complete_corpus = list(read_docs(wines.description))\n",
    "pickle.dump(complete_corpus, open('preprocessed_descriptions.pkl',\n",
    "                 'wb'))"
   ]
  },
  {
   "cell_type": "code",
   "execution_count": 99,
   "metadata": {
    "collapsed": true
   },
   "outputs": [],
   "source": [
    "model = get_model(complete_corpus, save_str = 'complete')"
   ]
  },
  {
   "cell_type": "markdown",
   "metadata": {},
   "source": [
    "# Making a graph\n",
    "\n",
    "Now that I've established that the document training works, I want to have all of the wines in the model so I can check similarities"
   ]
  },
  {
   "cell_type": "code",
   "execution_count": 100,
   "metadata": {},
   "outputs": [
    {
     "name": "stdout",
     "output_type": "stream",
     "text": [
      "(27671, 27671)\n"
     ]
    }
   ],
   "source": [
    "G=nx.Graph()\n",
    "print(len(complete_corpus), len(model.docvecs))\n",
    "for i in range(len(complete_corpus)):\n",
    "    if i % 1000 == 0:\n",
    "        print 'Processing number', i\n",
    "    row = wines.iloc[i]\n",
    "    current_vector = model.docvecs[i]\n",
    "    G.add_node(i)\n",
    "    connections = model.docvecs.most_similar([inferred_vector],\n",
    "                      topn=3)\n",
    "    for j in range(len(connections)):\n",
    "        index = connections[j][0]\n",
    "        new_row = wines.iloc[index,:]\n",
    "        G.add_node(index)\n",
    "        G.add_edge(i, index)\n"
   ]
  },
  {
   "cell_type": "code",
   "execution_count": 101,
   "metadata": {
    "scrolled": true
   },
   "outputs": [
    {
     "data": {
      "image/png": "[encoded data removed]",
      "text/plain": [
       "<matplotlib.figure.Figure at 0x107dc1ad0>"
      ]
     },
     "metadata": {},
     "output_type": "display_data"
    }
   ],
   "source": [
    "plt.figure(figsize=(10, 10))\n",
    "pos = nx.spring_layout(G)\n",
    "nx.draw(G)"
   ]
  },
  {
   "cell_type": "code",
   "execution_count": 102,
   "metadata": {
    "collapsed": true
   },
   "outputs": [],
   "source": [
    "import json\n",
    "from networkx.readwrite import json_graph"
   ]
  },
  {
   "cell_type": "code",
   "execution_count": 103,
   "metadata": {
    "collapsed": true
   },
   "outputs": [],
   "source": [
    "for n in G:\n",
    "    row = wines.iloc[n]\n",
    "    row = row.fillna('')\n",
    "    G.node[n]['id'] = n\n",
    "    G.node[n]['name'] = row['name']\n",
    "    G.node[n]['year'] = row['year']\n",
    "    G.node[n]['type'] = row['type']\n",
    "    G.node[n]['variety'] = row['variety']\n",
    "    G.node[n]['link'] = row['@id']\n",
    "    G.node[n]['category'] = row['category']"
   ]
  },
  {
   "cell_type": "code",
   "execution_count": null,
   "metadata": {
    "collapsed": true
   },
   "outputs": [],
   "source": [
    "d = json_graph.node_link_data(G)\n",
    "json.dump(d, open('graph/data/graph.json','w'))"
   ]
  },
  {
   "cell_type": "code",
   "execution_count": null,
   "metadata": {},
   "outputs": [
    {
     "name": "stderr",
     "output_type": "stream",
     "text": [
      " * Running on http://127.0.0.1:8000/ (Press CTRL+C to quit)\n"
     ]
    },
    {
     "name": "stdout",
     "output_type": "stream",
     "text": [
      "\n",
      "Go to http://localhost:8000/graph.html to see the example\n",
      "\n"
     ]
    }
   ],
   "source": [
    "import flask\n",
    "# Serve the file over http to allow for cross origin requests\n",
    "app = flask.Flask(__name__, static_folder=\"graph\")\n",
    "\n",
    "@app.route('/<path:path>')\n",
    "def static_proxy(path):\n",
    "    return app.send_static_file(path)\n",
    "\n",
    "print('\\nGo to http://localhost:8000/graph.html to see the example\\n')\n",
    "app.run(port=8000)"
   ]
  },
  {
   "cell_type": "code",
   "execution_count": null,
   "metadata": {
    "collapsed": true
   },
   "outputs": [],
   "source": []
  }
 ],
 "metadata": {
  "kernelspec": {
   "display_name": "Python 2",
   "language": "python",
   "name": "python2"
  },
  "language_info": {
   "codemirror_mode": {
    "name": "ipython",
    "version": 2
   },
   "file_extension": ".py",
   "mimetype": "text/x-python",
   "name": "python",
   "nbconvert_exporter": "python",
   "pygments_lexer": "ipython2",
   "version": "2.7.13"
  }
 },
 "nbformat": 4,
 "nbformat_minor": 1
}
